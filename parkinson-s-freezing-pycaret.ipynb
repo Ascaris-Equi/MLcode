{
 "cells": [
  {
   "cell_type": "code",
   "execution_count": 1,
   "id": "d0df2b57",
   "metadata": {
    "_cell_guid": "b1076dfc-b9ad-4769-8c92-a6c4dae69d19",
    "_uuid": "8f2839f25d086af736a60e9eeb907d3b93b6e0e5",
    "execution": {
     "iopub.execute_input": "2023-04-17T11:04:31.957946Z",
     "iopub.status.busy": "2023-04-17T11:04:31.957470Z",
     "iopub.status.idle": "2023-04-17T11:07:42.697411Z",
     "shell.execute_reply": "2023-04-17T11:07:42.695744Z"
    },
    "papermill": {
     "duration": 190.747817,
     "end_time": "2023-04-17T11:07:42.700850",
     "exception": false,
     "start_time": "2023-04-17T11:04:31.953033",
     "status": "completed"
    },
    "tags": []
   },
   "outputs": [
    {
     "name": "stdout",
     "output_type": "stream",
     "text": [
      "<class 'pandas.core.frame.DataFrame'>\n",
      "RangeIndex: 20588374 entries, 0 to 20588373\n",
      "Data columns (total 6 columns):\n",
      " #   Column  Dtype  \n",
      "---  ------  -----  \n",
      " 0   Time    int64  \n",
      " 1   AccV    float64\n",
      " 2   AccML   float64\n",
      " 3   AccAP   float64\n",
      " 4   Class   object \n",
      " 5   status  object \n",
      "dtypes: float64(3), int64(1), object(2)\n",
      "memory usage: 942.5+ MB\n"
     ]
    }
   ],
   "source": [
    "import pandas as pd\n",
    "import os\n",
    "\n",
    "train_path = \"/kaggle/input/tlvmc-parkinsons-freezing-gait-prediction/train\"\n",
    "tdcsfog_path = train_path + \"/tdcsfog\"\n",
    "defog_path = train_path + \"/defog\"\n",
    "notype_path = train_path + \"/notype\"\n",
    "tdcsfog_data = pd.concat([pd.read_csv(os.path.join(tdcsfog_path, i)).assign(Class='tdcsfog') for i in os.listdir(tdcsfog_path)])\n",
    "defog_data = pd.concat([pd.read_csv(os.path.join(defog_path, i)).assign(Class='defog') for i in os.listdir(defog_path)])\n",
    "notype_data = pd.concat([pd.read_csv(os.path.join(notype_path, i)).assign(Class='notype') for i in os.listdir(notype_path)])\n",
    "train_data = pd.concat([tdcsfog_data,defog_data])\n",
    "train_data['status'] = 'Others'\n",
    "train_data.loc[(train_data['StartHesitation'] == 1), 'status'] = 'StartHesitation'\n",
    "train_data.loc[(train_data['Turn'] == 1), 'status'] = 'Turn'\n",
    "train_data.loc[(train_data['Walking'] == 1), 'status'] = 'Walking'\n",
    "#train_data['Valid'] = train_data['Valid'].astype(bool)\n",
    "#train_data = train_data[train_data['Valid']]\n",
    "train_data = train_data.drop(['StartHesitation', 'Turn', 'Walking','Valid','Task'], axis=1)\n",
    "train_data = train_data.reset_index(drop=True)\n",
    "train_data.to_csv('train_data.csv')\n",
    "train_data.info()"
   ]
  },
  {
   "cell_type": "code",
   "execution_count": 2,
   "id": "cf616517",
   "metadata": {
    "execution": {
     "iopub.execute_input": "2023-04-17T11:07:42.706615Z",
     "iopub.status.busy": "2023-04-17T11:07:42.706203Z",
     "iopub.status.idle": "2023-04-17T11:07:44.858044Z",
     "shell.execute_reply": "2023-04-17T11:07:44.856614Z"
    },
    "papermill": {
     "duration": 2.157853,
     "end_time": "2023-04-17T11:07:44.860752",
     "exception": false,
     "start_time": "2023-04-17T11:07:42.702899",
     "status": "completed"
    },
    "tags": []
   },
   "outputs": [
    {
     "name": "stdout",
     "output_type": "stream",
     "text": [
      "<class 'pandas.core.frame.DataFrame'>\n",
      "Int64Index: 286370 entries, 0 to 281687\n",
      "Data columns (total 5 columns):\n",
      " #   Column  Non-Null Count   Dtype  \n",
      "---  ------  --------------   -----  \n",
      " 0   Time    286370 non-null  int64  \n",
      " 1   AccV    286370 non-null  float64\n",
      " 2   AccML   286370 non-null  float64\n",
      " 3   AccAP   286370 non-null  float64\n",
      " 4   Class   286370 non-null  object \n",
      "dtypes: float64(3), int64(1), object(1)\n",
      "memory usage: 13.1+ MB\n"
     ]
    }
   ],
   "source": [
    "test_path = \"/kaggle/input/tlvmc-parkinsons-freezing-gait-prediction/test\"\n",
    "tdcsfog_path = test_path + \"/tdcsfog\"\n",
    "defog_path = test_path + \"/defog\"\n",
    "tdcsfog_data = pd.concat([pd.read_csv(os.path.join(tdcsfog_path, i)).assign(Class='tdcsfog') for i in os.listdir(tdcsfog_path)])\n",
    "defog_data = pd.concat([pd.read_csv(os.path.join(defog_path, i)).assign(Class='defog') for i in os.listdir(defog_path)])\n",
    "test_data = pd.concat([tdcsfog_data,defog_data])\n",
    "test_data.to_csv('test_data.csv')\n",
    "test_data.info()"
   ]
  }
 ],
 "metadata": {
  "kernelspec": {
   "display_name": "Python 3",
   "language": "python",
   "name": "python3"
  },
  "language_info": {
   "codemirror_mode": {
    "name": "ipython",
    "version": 3
   },
   "file_extension": ".py",
   "mimetype": "text/x-python",
   "name": "python",
   "nbconvert_exporter": "python",
   "pygments_lexer": "ipython3",
   "version": "3.7.12"
  },
  "papermill": {
   "default_parameters": {},
   "duration": 204.733009,
   "end_time": "2023-04-17T11:07:45.788589",
   "environment_variables": {},
   "exception": null,
   "input_path": "__notebook__.ipynb",
   "output_path": "__notebook__.ipynb",
   "parameters": {},
   "start_time": "2023-04-17T11:04:21.055580",
   "version": "2.4.0"
  }
 },
 "nbformat": 4,
 "nbformat_minor": 5
}
