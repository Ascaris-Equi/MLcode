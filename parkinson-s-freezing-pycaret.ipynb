{
 "cells": [
  {
   "cell_type": "code",
   "execution_count": 1,
   "id": "c95c096e",
   "metadata": {
    "execution": {
     "iopub.execute_input": "2023-04-19T11:55:33.122575Z",
     "iopub.status.busy": "2023-04-19T11:55:33.121636Z",
     "iopub.status.idle": "2023-04-19T11:58:39.171232Z",
     "shell.execute_reply": "2023-04-19T11:58:39.169842Z"
    },
    "papermill": {
     "duration": 186.058502,
     "end_time": "2023-04-19T11:58:39.175620",
     "exception": false,
     "start_time": "2023-04-19T11:55:33.117118",
     "status": "completed"
    },
    "tags": []
   },
   "outputs": [
    {
     "name": "stdout",
     "output_type": "stream",
     "text": [
      "<class 'pandas.core.frame.DataFrame'>\n",
      "RangeIndex: 20588374 entries, 0 to 20588373\n",
      "Data columns (total 6 columns):\n",
      " #   Column  Dtype  \n",
      "---  ------  -----  \n",
      " 0   Time    int64  \n",
      " 1   AccV    float64\n",
      " 2   AccML   float64\n",
      " 3   AccAP   float64\n",
      " 4   Class   object \n",
      " 5   status  object \n",
      "dtypes: float64(3), int64(1), object(2)\n",
      "memory usage: 942.5+ MB\n"
     ]
    }
   ],
   "source": [
    "import pandas as pd\n",
    "import os\n",
    "\n",
    "train_path = \"/kaggle/input/tlvmc-parkinsons-freezing-gait-prediction/train\"\n",
    "tdcsfog_path = train_path + \"/tdcsfog\"\n",
    "defog_path = train_path + \"/defog\"\n",
    "notype_path = train_path + \"/notype\"\n",
    "tdcsfog_data = pd.concat([pd.read_csv(os.path.join(tdcsfog_path, i)).assign(Class='tdcsfog') for i in os.listdir(tdcsfog_path)])\n",
    "defog_data = pd.concat([pd.read_csv(os.path.join(defog_path, i)).assign(Class='defog') for i in os.listdir(defog_path)])\n",
    "notype_data = pd.concat([pd.read_csv(os.path.join(notype_path, i)).assign(Class='notype') for i in os.listdir(notype_path)])\n",
    "train_data = pd.concat([tdcsfog_data,defog_data])\n",
    "train_data['status'] = 'Others'\n",
    "train_data.loc[(train_data['StartHesitation'] == 1), 'status'] = 'StartHesitation'\n",
    "train_data.loc[(train_data['Turn'] == 1), 'status'] = 'Turn'\n",
    "train_data.loc[(train_data['Walking'] == 1), 'status'] = 'Walking'\n",
    "#train_data['Valid'] = train_data['Valid'].astype(bool)\n",
    "#train_data = train_data[train_data['Valid']]\n",
    "train_data = train_data.drop(['StartHesitation', 'Turn', 'Walking','Valid','Task'], axis=1)\n",
    "train_data = train_data.reset_index(drop=True)\n",
    "train_data.to_csv('train_data.csv')\n",
    "train_data.info()"
   ]
  }
 ],
 "metadata": {
  "kernelspec": {
   "display_name": "Python 3",
   "language": "python",
   "name": "python3"
  },
  "language_info": {
   "codemirror_mode": {
    "name": "ipython",
    "version": 3
   },
   "file_extension": ".py",
   "mimetype": "text/x-python",
   "name": "python",
   "nbconvert_exporter": "python",
   "pygments_lexer": "ipython3",
   "version": "3.7.12"
  },
  "papermill": {
   "default_parameters": {},
   "duration": 196.852685,
   "end_time": "2023-04-19T11:58:40.200700",
   "environment_variables": {},
   "exception": null,
   "input_path": "__notebook__.ipynb",
   "output_path": "__notebook__.ipynb",
   "parameters": {},
   "start_time": "2023-04-19T11:55:23.348015",
   "version": "2.4.0"
  }
 },
 "nbformat": 4,
 "nbformat_minor": 5
}
